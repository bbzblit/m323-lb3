{
  "cells": [
    {
      "cell_type": "code",
      "execution_count": null,
      "metadata": {
        "colab": {
          "base_uri": "https://localhost:8080/"
        },
        "id": "IVv-MxP2Z2so",
        "outputId": "6b7245b0-9abd-4702-a631-80d06cef3f35"
      },
      "outputs": [],
      "source": [
        "! pip install pandas"
      ]
    },
    {
      "cell_type": "code",
      "execution_count": null,
      "metadata": {
        "colab": {
          "base_uri": "https://localhost:8080/"
        },
        "id": "icrx--odZ2sr",
        "outputId": "1d602d9c-17bb-4821-d8bc-b2b2eeee0076"
      },
      "outputs": [],
      "source": [
        "! wget https://cloud.ynnk.dev/s/WZT8ia5MP93XEP7/download/example.csv"
      ]
    },
    {
      "cell_type": "code",
      "execution_count": null,
      "metadata": {
        "id": "_9_b-w6qZ_G-"
      },
      "outputs": [],
      "source": [
        "import pandas as pd\n",
        "from datetime import datetime\n",
        "import numpy as np\n",
        "\n",
        "df = pd.read_csv(\"example.csv\", engine='pyarrow', encoding=\"utf-8\", delimiter=\";\")"
      ]
    },
    {
      "cell_type": "code",
      "execution_count": null,
      "metadata": {
        "id": "fvJPZzQuaBwE"
      },
      "outputs": [],
      "source": [
        "df = df.drop(\n",
        "    [\"BETRIEBSTAG\", \"BETREIBER_ID\", \"BETREIBER_ABK\", \"FAHRT_BEZEICHNER\",\n",
        "     \"BETREIBER_NAME\", \"LINIEN_ID\", \"UMLAUF_ID\", \"VERKEHRSMITTEL_TEXT\",\n",
        "     \"AB_PROGNOSE_STATUS\", \"AN_PROGNOSE_STATUS\",\n",
        "     \"ZUSATZFAHRT_TF\", \"BPUIC\", \"DURCHFAHRT_TF\"], axis=1)"
      ]
    },
    {
      "cell_type": "code",
      "execution_count": null,
      "metadata": {
        "colab": {
          "base_uri": "https://localhost:8080/"
        },
        "id": "frO15R5Zente",
        "outputId": "00a8336c-1bfc-40f4-d38c-89ab619edbb1"
      },
      "outputs": [],
      "source": [
        "df[\"PRODUKT_ID\"].unique()"
      ]
    },
    {
      "cell_type": "code",
      "execution_count": null,
      "metadata": {
        "id": "ni4sETuZfeWG"
      },
      "outputs": [],
      "source": [
        "df = df[df[\"PRODUKT_ID\"] == \"Zug\"]"
      ]
    },
    {
      "cell_type": "code",
      "execution_count": null,
      "metadata": {
        "id": "epjVRsqCqFSO"
      },
      "outputs": [],
      "source": [
        "df = df[~df[\"FAELLT_AUS_TF\"]]\n",
        "df = df.drop([\"FAELLT_AUS_TF\", \"PRODUKT_ID\"], axis=1)"
      ]
    },
    {
      "cell_type": "code",
      "execution_count": null,
      "metadata": {
        "colab": {
          "base_uri": "https://localhost:8080/"
        },
        "id": "VVnY1otlgEkI",
        "outputId": "fcb6421e-ed9c-4076-975e-eb95bd94c8fd"
      },
      "outputs": [],
      "source": [
        "df.dtypes"
      ]
    },
    {
      "cell_type": "code",
      "execution_count": null,
      "metadata": {
        "id": "BTcIo8CGkJuj"
      },
      "outputs": [],
      "source": [
        "df.replace('', np.nan, inplace=True)\n",
        "\n"
      ]
    },
    {
      "cell_type": "code",
      "execution_count": null,
      "metadata": {
        "id": "MxJQ_80hgxaE"
      },
      "outputs": [],
      "source": [
        "for time_col in [\"ANKUNFTSZEIT\", \"ABFAHRTSZEIT\"]:\n",
        "  df[time_col] = pd.to_datetime(df[time_col], format=\"%d.%m.%Y %H:%M\")\n",
        "\n",
        "for time_col in [\"AN_PROGNOSE\", \"AB_PROGNOSE\"]:\n",
        "  df[time_col] = pd.to_datetime(df[time_col], format=\"%d.%m.%Y %H:%M:%S\")\n"
      ]
    },
    {
      "cell_type": "code",
      "execution_count": null,
      "metadata": {
        "id": "qcUN49Xeq8uv"
      },
      "outputs": [],
      "source": [
        "df = df[~(df[\"AN_PROGNOSE\"].isna() ^ df[\"ANKUNFTSZEIT\"].isna()) | ~(df[\"AB_PROGNOSE\"].isna() ^ df[\"ABFAHRTSZEIT\"].isna())]"
      ]
    },
    {
      "cell_type": "code",
      "execution_count": null,
      "metadata": {
        "colab": {
          "base_uri": "https://localhost:8080/"
        },
        "id": "sdRPzBIpkxXT",
        "outputId": "0fe86806-5d03-4817-81c8-83e1d4778a1a"
      },
      "outputs": [],
      "source": [
        "df[\"DELAY_ANKUFT\"] = (df[\"AN_PROGNOSE\"] - df[\"ANKUNFTSZEIT\"]).astype('timedelta64[s]')\n",
        "df[\"DELAY_ABFAHRT\"] = (df[\"AB_PROGNOSE\"] - df[\"ABFAHRTSZEIT\"] ).astype('timedelta64[s]')"
      ]
    },
    {
      "cell_type": "code",
      "execution_count": null,
      "metadata": {
        "colab": {
          "base_uri": "https://localhost:8080/"
        },
        "id": "eW6fS5jOLQ7U",
        "outputId": "77dad2d8-ebe5-4188-956a-7f7a03e256e6"
      },
      "outputs": [],
      "source": [
        "df[\"DELAY_ANKUFT\"] = df[\"DELAY_ANKUFT\"].astype(\"Int64\")\n",
        "df[\"DELAY_ABFAHRT\"] = df[\"DELAY_ABFAHRT\"].astype(\"Int64\")"
      ]
    },
    {
      "cell_type": "code",
      "execution_count": null,
      "metadata": {
        "id": "SvlUktaqk_Vu"
      },
      "outputs": [],
      "source": [
        "df = df[df[\"DELAY_ABFAHRT\"].between(-300,300) | df[\"DELAY_ANKUFT\"].between(-300,300)]"
      ]
    },
    {
      "cell_type": "code",
      "execution_count": null,
      "metadata": {
        "id": "4mExI8qouvbN"
      },
      "outputs": [],
      "source": [
        "df = df.dropna(subset=[\"HALTESTELLEN_NAME\"])"
      ]
    },
    {
      "cell_type": "code",
      "execution_count": null,
      "metadata": {
        "colab": {
          "base_uri": "https://localhost:8080/",
          "height": 424
        },
        "id": "-toGft0ZlAAl",
        "outputId": "8269a165-9916-45f3-ae13-3a95a2619603"
      },
      "outputs": [],
      "source": [
        "# Gibt die Züge aus die zu früh abgefahren sind :)\n",
        "df[df[\"DELAY_ABFAHRT\"] < 0].sort_values(\"DELAY_ABFAHRT\")"
      ]
    },
    {
      "cell_type": "code",
      "execution_count": null,
      "metadata": {
        "id": "IRkuPgnvxA5g"
      },
      "outputs": [],
      "source": [
        "i = 0\n",
        "for index, row in df.iterrows():\n",
        "  if(pd.isnull(row[\"ABFAHRTSZEIT\"])):\n",
        "    i += 1\n",
        "  df.loc[index,\"FAHRT_ID\"] = i\n",
        "df[\"FAHRT_ID\"] = df[\"FAHRT_ID\"].astype(int)"
      ]
    },
    {
      "cell_type": "code",
      "execution_count": null,
      "metadata": {
        "id": "E28zi2-NJX1u"
      },
      "outputs": [],
      "source": []
    }
  ],
  "metadata": {
    "colab": {
      "machine_shape": "hm",
      "provenance": []
    },
    "kernelspec": {
      "display_name": "Python 3",
      "name": "python3"
    },
    "language_info": {
      "name": "python",
      "version": "3.11.2"
    },
    "orig_nbformat": 4
  },
  "nbformat": 4,
  "nbformat_minor": 0
}
